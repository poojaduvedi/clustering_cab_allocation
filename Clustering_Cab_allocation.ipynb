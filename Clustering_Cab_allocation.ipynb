{
 "cells": [
  {
   "cell_type": "code",
   "execution_count": 1,
   "metadata": {},
   "outputs": [],
   "source": [
    "%matplotlib notebook\n",
    "import numpy as np\n",
    "import pandas as pd\n",
    "import matplotlib.pyplot as plt\n",
    "\n",
    "from sklearn.cluster import KMeans\n",
    "import seaborn as sns; sns.set()\n",
    "\n",
    "from sklearn import preprocessing, cluster\n",
    "import scipy\n",
    "import math\n",
    "from math import sin, cos, sqrt, atan2, radians\n",
    "\n",
    "%matplotlib inline"
   ]
  },
  {
   "cell_type": "code",
   "execution_count": 2,
   "metadata": {},
   "outputs": [],
   "source": [
    "df = pd.read_csv(\"EmployeeSchedule_ABC.CSV\")"
   ]
  },
  {
   "cell_type": "markdown",
   "metadata": {},
   "source": [
    "# EDA"
   ]
  },
  {
   "cell_type": "code",
   "execution_count": 3,
   "metadata": {},
   "outputs": [
    {
     "data": {
      "text/html": [
       "<div>\n",
       "<style scoped>\n",
       "    .dataframe tbody tr th:only-of-type {\n",
       "        vertical-align: middle;\n",
       "    }\n",
       "\n",
       "    .dataframe tbody tr th {\n",
       "        vertical-align: top;\n",
       "    }\n",
       "\n",
       "    .dataframe thead th {\n",
       "        text-align: right;\n",
       "    }\n",
       "</style>\n",
       "<table border=\"1\" class=\"dataframe\">\n",
       "  <thead>\n",
       "    <tr style=\"text-align: right;\">\n",
       "      <th></th>\n",
       "      <th>Emp ID</th>\n",
       "      <th>Office InTime</th>\n",
       "      <th>Office OutTime</th>\n",
       "      <th>Area</th>\n",
       "      <th>Area Lat</th>\n",
       "      <th>Area Long</th>\n",
       "    </tr>\n",
       "  </thead>\n",
       "  <tbody>\n",
       "    <tr>\n",
       "      <th>0</th>\n",
       "      <td>1</td>\n",
       "      <td>13:00:00</td>\n",
       "      <td>22:00:00</td>\n",
       "      <td>CHANDIVALI</td>\n",
       "      <td>19.107491</td>\n",
       "      <td>72.901760</td>\n",
       "    </tr>\n",
       "    <tr>\n",
       "      <th>1</th>\n",
       "      <td>2</td>\n",
       "      <td>13:00:00</td>\n",
       "      <td>22:00:00</td>\n",
       "      <td>ANDHERI (E)</td>\n",
       "      <td>19.115491</td>\n",
       "      <td>72.872695</td>\n",
       "    </tr>\n",
       "    <tr>\n",
       "      <th>2</th>\n",
       "      <td>3</td>\n",
       "      <td>13:00:00</td>\n",
       "      <td>22:00:00</td>\n",
       "      <td>BANDRA (E)</td>\n",
       "      <td>19.060516</td>\n",
       "      <td>72.850432</td>\n",
       "    </tr>\n",
       "    <tr>\n",
       "      <th>3</th>\n",
       "      <td>4</td>\n",
       "      <td>13:00:00</td>\n",
       "      <td>22:00:00</td>\n",
       "      <td>BANDRA (E)</td>\n",
       "      <td>19.060516</td>\n",
       "      <td>72.850432</td>\n",
       "    </tr>\n",
       "    <tr>\n",
       "      <th>4</th>\n",
       "      <td>6</td>\n",
       "      <td>13:00:00</td>\n",
       "      <td>22:00:00</td>\n",
       "      <td>DAHISAR (E)</td>\n",
       "      <td>19.253933</td>\n",
       "      <td>72.867245</td>\n",
       "    </tr>\n",
       "  </tbody>\n",
       "</table>\n",
       "</div>"
      ],
      "text/plain": [
       "   Emp ID Office InTime Office OutTime         Area   Area Lat  Area Long\n",
       "0       1      13:00:00       22:00:00   CHANDIVALI  19.107491  72.901760\n",
       "1       2      13:00:00       22:00:00  ANDHERI (E)  19.115491  72.872695\n",
       "2       3      13:00:00       22:00:00   BANDRA (E)  19.060516  72.850432\n",
       "3       4      13:00:00       22:00:00   BANDRA (E)  19.060516  72.850432\n",
       "4       6      13:00:00       22:00:00  DAHISAR (E)  19.253933  72.867245"
      ]
     },
     "execution_count": 3,
     "metadata": {},
     "output_type": "execute_result"
    }
   ],
   "source": [
    "df.head()"
   ]
  },
  {
   "cell_type": "code",
   "execution_count": 4,
   "metadata": {},
   "outputs": [
    {
     "data": {
      "text/plain": [
       "(1688, 6)"
      ]
     },
     "execution_count": 4,
     "metadata": {},
     "output_type": "execute_result"
    }
   ],
   "source": [
    "df.shape"
   ]
  },
  {
   "cell_type": "code",
   "execution_count": 5,
   "metadata": {},
   "outputs": [
    {
     "data": {
      "text/plain": [
       "Emp ID            0\n",
       "Office InTime     0\n",
       "Office OutTime    0\n",
       "Area              0\n",
       "Area Lat          0\n",
       "Area Long         0\n",
       "dtype: int64"
      ]
     },
     "execution_count": 5,
     "metadata": {},
     "output_type": "execute_result"
    }
   ],
   "source": [
    "df.isnull().sum() # No null values"
   ]
  },
  {
   "cell_type": "code",
   "execution_count": 6,
   "metadata": {},
   "outputs": [
    {
     "data": {
      "text/html": [
       "<div>\n",
       "<style scoped>\n",
       "    .dataframe tbody tr th:only-of-type {\n",
       "        vertical-align: middle;\n",
       "    }\n",
       "\n",
       "    .dataframe tbody tr th {\n",
       "        vertical-align: top;\n",
       "    }\n",
       "\n",
       "    .dataframe thead th {\n",
       "        text-align: right;\n",
       "    }\n",
       "</style>\n",
       "<table border=\"1\" class=\"dataframe\">\n",
       "  <thead>\n",
       "    <tr style=\"text-align: right;\">\n",
       "      <th></th>\n",
       "      <th>Emp ID</th>\n",
       "      <th>Area Lat</th>\n",
       "      <th>Area Long</th>\n",
       "    </tr>\n",
       "  </thead>\n",
       "  <tbody>\n",
       "    <tr>\n",
       "      <th>count</th>\n",
       "      <td>1688.000000</td>\n",
       "      <td>1688.000000</td>\n",
       "      <td>1688.000000</td>\n",
       "    </tr>\n",
       "    <tr>\n",
       "      <th>mean</th>\n",
       "      <td>1004.023697</td>\n",
       "      <td>19.161223</td>\n",
       "      <td>72.902289</td>\n",
       "    </tr>\n",
       "    <tr>\n",
       "      <th>std</th>\n",
       "      <td>576.245357</td>\n",
       "      <td>0.097832</td>\n",
       "      <td>0.062302</td>\n",
       "    </tr>\n",
       "    <tr>\n",
       "      <th>min</th>\n",
       "      <td>1.000000</td>\n",
       "      <td>18.906703</td>\n",
       "      <td>72.809430</td>\n",
       "    </tr>\n",
       "    <tr>\n",
       "      <th>25%</th>\n",
       "      <td>513.750000</td>\n",
       "      <td>19.091182</td>\n",
       "      <td>72.854292</td>\n",
       "    </tr>\n",
       "    <tr>\n",
       "      <th>50%</th>\n",
       "      <td>1016.500000</td>\n",
       "      <td>19.156511</td>\n",
       "      <td>72.872695</td>\n",
       "    </tr>\n",
       "    <tr>\n",
       "      <th>75%</th>\n",
       "      <td>1453.250000</td>\n",
       "      <td>19.244474</td>\n",
       "      <td>72.978535</td>\n",
       "    </tr>\n",
       "    <tr>\n",
       "      <th>max</th>\n",
       "      <td>2025.000000</td>\n",
       "      <td>19.394211</td>\n",
       "      <td>73.048291</td>\n",
       "    </tr>\n",
       "  </tbody>\n",
       "</table>\n",
       "</div>"
      ],
      "text/plain": [
       "            Emp ID     Area Lat    Area Long\n",
       "count  1688.000000  1688.000000  1688.000000\n",
       "mean   1004.023697    19.161223    72.902289\n",
       "std     576.245357     0.097832     0.062302\n",
       "min       1.000000    18.906703    72.809430\n",
       "25%     513.750000    19.091182    72.854292\n",
       "50%    1016.500000    19.156511    72.872695\n",
       "75%    1453.250000    19.244474    72.978535\n",
       "max    2025.000000    19.394211    73.048291"
      ]
     },
     "execution_count": 6,
     "metadata": {},
     "output_type": "execute_result"
    }
   ],
   "source": [
    "df.describe()"
   ]
  },
  {
   "cell_type": "code",
   "execution_count": 7,
   "metadata": {},
   "outputs": [
    {
     "data": {
      "text/plain": [
       "Emp ID            1688\n",
       "Office InTime        8\n",
       "Office OutTime       9\n",
       "Area               118\n",
       "Area Lat           111\n",
       "Area Long          107\n",
       "dtype: int64"
      ]
     },
     "execution_count": 7,
     "metadata": {},
     "output_type": "execute_result"
    }
   ],
   "source": [
    "df.nunique()"
   ]
  },
  {
   "cell_type": "code",
   "execution_count": 8,
   "metadata": {},
   "outputs": [
    {
     "name": "stdout",
     "output_type": "stream",
     "text": [
      "<class 'pandas.core.frame.DataFrame'>\n",
      "RangeIndex: 1688 entries, 0 to 1687\n",
      "Data columns (total 6 columns):\n",
      " #   Column          Non-Null Count  Dtype  \n",
      "---  ------          --------------  -----  \n",
      " 0   Emp ID          1688 non-null   int64  \n",
      " 1   Office InTime   1688 non-null   object \n",
      " 2   Office OutTime  1688 non-null   object \n",
      " 3   Area            1688 non-null   object \n",
      " 4   Area Lat        1688 non-null   float64\n",
      " 5   Area Long       1688 non-null   float64\n",
      "dtypes: float64(2), int64(1), object(3)\n",
      "memory usage: 79.2+ KB\n"
     ]
    }
   ],
   "source": [
    "df.info()"
   ]
  },
  {
   "cell_type": "code",
   "execution_count": 9,
   "metadata": {},
   "outputs": [
    {
     "data": {
      "text/plain": [
       "6:00:00     586\n",
       "18:00:00    422\n",
       "19:00:00    282\n",
       "13:00:00    204\n",
       "9:00:00     102\n",
       "21:00:00     46\n",
       "15:00:00     42\n",
       "11:00:00      4\n",
       "Name: Office InTime, dtype: int64"
      ]
     },
     "execution_count": 9,
     "metadata": {},
     "output_type": "execute_result"
    }
   ],
   "source": [
    "df[\"Office InTime\"].value_counts()"
   ]
  },
  {
   "cell_type": "code",
   "execution_count": 10,
   "metadata": {},
   "outputs": [
    {
     "data": {
      "text/plain": [
       "15:00:00    585\n",
       "3:00:00     386\n",
       "4:00:00     318\n",
       "22:00:00    204\n",
       "18:00:00    102\n",
       "6:00:00      46\n",
       "0:00:00      42\n",
       "20:00:00      4\n",
       "16:00:00      1\n",
       "Name: Office OutTime, dtype: int64"
      ]
     },
     "execution_count": 10,
     "metadata": {},
     "output_type": "execute_result"
    }
   ],
   "source": [
    "df[\"Office OutTime\"].value_counts()"
   ]
  },
  {
   "cell_type": "code",
   "execution_count": 11,
   "metadata": {},
   "outputs": [
    {
     "data": {
      "text/plain": [
       "<AxesSubplot:title={'center':'Office OutTime'}>"
      ]
     },
     "execution_count": 11,
     "metadata": {},
     "output_type": "execute_result"
    },
    {
     "data": {
      "image/png": "[encoded data removed]",
      "text/plain": [
       "<Figure size 1440x1440 with 2 Axes>"
      ]
     },
     "metadata": {
      "needs_background": "light"
     },
     "output_type": "display_data"
    }
   ],
   "source": [
    "plt.subplot(331)\n",
    "df['Office InTime'].value_counts(normalize=False).plot.bar(figsize=(20,20), title= 'Office InTime')\n",
    "\n",
    "plt.subplot(332)\n",
    "df['Office OutTime'].value_counts(normalize=False).plot.bar(title= 'Office OutTime')"
   ]
  },
  {
   "cell_type": "code",
   "execution_count": 12,
   "metadata": {},
   "outputs": [
    {
     "data": {
      "text/plain": [
       "THANE (W)        141\n",
       "ANDHERI (E)      103\n",
       "MIRA ROAD         92\n",
       "AIROLI            68\n",
       "KOPARKHAIRANE     63\n",
       "                ... \n",
       "NAIGAON DADAR      1\n",
       "GAMDEVI            1\n",
       "CURRY ROAD         1\n",
       "LALBAUG            1\n",
       "NAIGOAN (W)        1\n",
       "Name: Area, Length: 118, dtype: int64"
      ]
     },
     "execution_count": 12,
     "metadata": {},
     "output_type": "execute_result"
    }
   ],
   "source": [
    "df[\"Area\"].value_counts()"
   ]
  },
  {
   "cell_type": "code",
   "execution_count": 13,
   "metadata": {},
   "outputs": [
    {
     "data": {
      "image/png": "[encoded data removed]",
      "text/plain": [
       "<Figure size 432x288 with 1 Axes>"
      ]
     },
     "metadata": {
      "needs_background": "light"
     },
     "output_type": "display_data"
    }
   ],
   "source": [
    "# Scatter plot for lat long\n",
    "plt.scatter(x=df['Area Long'], y=df['Area Lat'])\n",
    "plt.show()"
   ]
  },
  {
   "cell_type": "code",
   "execution_count": 14,
   "metadata": {},
   "outputs": [],
   "source": [
    "# Scatter plot on area map\n",
    "BBox = (df['Area Long'].min(),   df['Area Long'].max(),      \n",
    "         df['Area Lat'].min(), df['Area Lat'].max())"
   ]
  },
  {
   "cell_type": "code",
   "execution_count": 15,
   "metadata": {},
   "outputs": [
    {
     "data": {
      "text/plain": [
       "(72.80943, 73.0482912, 18.9067031, 19.394211399999996)"
      ]
     },
     "execution_count": 15,
     "metadata": {},
     "output_type": "execute_result"
    }
   ],
   "source": [
    "BBox"
   ]
  },
  {
   "cell_type": "code",
   "execution_count": 16,
   "metadata": {},
   "outputs": [],
   "source": [
    "plt_map = plt.imread('map.png')"
   ]
  },
  {
   "cell_type": "code",
   "execution_count": 17,
   "metadata": {},
   "outputs": [
    {
     "data": {
      "text/plain": [
       "<matplotlib.image.AxesImage at 0x132652090>"
      ]
     },
     "execution_count": 17,
     "metadata": {},
     "output_type": "execute_result"
    },
    {
     "data": {
      "image/png": "[encoded data removed]",
      "text/plain": [
       "<Figure size 576x504 with 1 Axes>"
      ]
     },
     "metadata": {
      "needs_background": "light"
     },
     "output_type": "display_data"
    }
   ],
   "source": [
    "fig, ax = plt.subplots(figsize = (8,7))\n",
    "ax.scatter(df['Area Long'], df['Area Lat'], zorder=1, alpha= 0.2, c='b', s=10)\n",
    "ax.set_title('Plotting Spatial Data on Map')\n",
    "ax.set_xlim(BBox[0],BBox[1])\n",
    "ax.set_ylim(BBox[2],BBox[3])\n",
    "ax.imshow(plt_map, zorder=0, extent = BBox, aspect= 'equal')"
   ]
  },
  {
   "cell_type": "markdown",
   "metadata": {},
   "source": [
    "# Clustering- K means\n",
    "### We are now going to find how many clusters these data points can fit into and what are their centroids"
   ]
  },
  {
   "cell_type": "code",
   "execution_count": 18,
   "metadata": {},
   "outputs": [
    {
     "data": {
      "image/png": "[encoded data removed]",
      "text/plain": [
       "<Figure size 432x288 with 1 Axes>"
      ]
     },
     "metadata": {
      "needs_background": "light"
     },
     "output_type": "display_data"
    }
   ],
   "source": [
    "X = df[[\"Area Lat\",\"Area Long\"]]\n",
    "max_k = 10\n",
    "## iterations\n",
    "distortions = [] \n",
    "for i in range(1, max_k+1):\n",
    "    if len(X) >= i:\n",
    "       model = cluster.KMeans(n_clusters=i, init='k-means++', max_iter=300, n_init=10, random_state=0)\n",
    "       model.fit(X)\n",
    "       distortions.append(model.inertia_)\n",
    "## best k: the lowest derivative\n",
    "k = [i*100 for i in np.diff(distortions,2)].index(min([i*100 for i \n",
    "     in np.diff(distortions,2)]))\n",
    "## plot\n",
    "fig, ax = plt.subplots()\n",
    "ax.plot(range(1, len(distortions)+1), distortions)\n",
    "ax.axvline(k, ls='--', color=\"red\", label=\"k = \"+str(k))\n",
    "ax.set(title='The Elbow Method', xlabel='Number of clusters', \n",
    "       ylabel=\"Distortion\")\n",
    "ax.legend()\n",
    "ax.grid(True)\n",
    "plt.show()"
   ]
  },
  {
   "cell_type": "code",
   "execution_count": 19,
   "metadata": {},
   "outputs": [],
   "source": [
    "# K = 7 shows the optimum no of clusters is 7 here. Using elbow method."
   ]
  },
  {
   "cell_type": "code",
   "execution_count": 20,
   "metadata": {},
   "outputs": [
    {
     "name": "stderr",
     "output_type": "stream",
     "text": [
      "/opt/anaconda3/lib/python3.7/site-packages/pandas/core/indexing.py:671: SettingWithCopyWarning: \n",
      "A value is trying to be set on a copy of a slice from a DataFrame\n",
      "\n",
      "See the caveats in the documentation: https://pandas.pydata.org/pandas-docs/stable/user_guide/indexing.html#returning-a-view-versus-a-copy\n",
      "  self._setitem_with_indexer(indexer, value)\n"
     ]
    },
    {
     "data": {
      "text/html": [
       "<div>\n",
       "<style scoped>\n",
       "    .dataframe tbody tr th:only-of-type {\n",
       "        vertical-align: middle;\n",
       "    }\n",
       "\n",
       "    .dataframe tbody tr th {\n",
       "        vertical-align: top;\n",
       "    }\n",
       "\n",
       "    .dataframe thead th {\n",
       "        text-align: right;\n",
       "    }\n",
       "</style>\n",
       "<table border=\"1\" class=\"dataframe\">\n",
       "  <thead>\n",
       "    <tr style=\"text-align: right;\">\n",
       "      <th></th>\n",
       "      <th>Emp ID</th>\n",
       "      <th>Office InTime</th>\n",
       "      <th>Office OutTime</th>\n",
       "      <th>Area</th>\n",
       "      <th>Area Lat</th>\n",
       "      <th>Area Long</th>\n",
       "      <th>cluster</th>\n",
       "      <th>centroids</th>\n",
       "    </tr>\n",
       "  </thead>\n",
       "  <tbody>\n",
       "    <tr>\n",
       "      <th>1083</th>\n",
       "      <td>1257</td>\n",
       "      <td>18:00:00</td>\n",
       "      <td>3:00:00</td>\n",
       "      <td>DHARAVI</td>\n",
       "      <td>19.040208</td>\n",
       "      <td>72.850850</td>\n",
       "      <td>6</td>\n",
       "      <td>0</td>\n",
       "    </tr>\n",
       "    <tr>\n",
       "      <th>23</th>\n",
       "      <td>27</td>\n",
       "      <td>13:00:00</td>\n",
       "      <td>22:00:00</td>\n",
       "      <td>KOPARKHAIRANE</td>\n",
       "      <td>19.161639</td>\n",
       "      <td>72.996427</td>\n",
       "      <td>5</td>\n",
       "      <td>0</td>\n",
       "    </tr>\n",
       "    <tr>\n",
       "      <th>631</th>\n",
       "      <td>776</td>\n",
       "      <td>6:00:00</td>\n",
       "      <td>15:00:00</td>\n",
       "      <td>GHANSOLI</td>\n",
       "      <td>19.125363</td>\n",
       "      <td>72.999201</td>\n",
       "      <td>5</td>\n",
       "      <td>0</td>\n",
       "    </tr>\n",
       "    <tr>\n",
       "      <th>1252</th>\n",
       "      <td>1437</td>\n",
       "      <td>18:00:00</td>\n",
       "      <td>4:00:00</td>\n",
       "      <td>ANDHERI (E)</td>\n",
       "      <td>19.115491</td>\n",
       "      <td>72.872695</td>\n",
       "      <td>3</td>\n",
       "      <td>0</td>\n",
       "    </tr>\n",
       "    <tr>\n",
       "      <th>377</th>\n",
       "      <td>457</td>\n",
       "      <td>6:00:00</td>\n",
       "      <td>15:00:00</td>\n",
       "      <td>ANDHERI (W)</td>\n",
       "      <td>19.136325</td>\n",
       "      <td>72.827660</td>\n",
       "      <td>0</td>\n",
       "      <td>0</td>\n",
       "    </tr>\n",
       "    <tr>\n",
       "      <th>552</th>\n",
       "      <td>669</td>\n",
       "      <td>6:00:00</td>\n",
       "      <td>15:00:00</td>\n",
       "      <td>SANTACRUZ (E)</td>\n",
       "      <td>19.079370</td>\n",
       "      <td>72.856260</td>\n",
       "      <td>3</td>\n",
       "      <td>0</td>\n",
       "    </tr>\n",
       "    <tr>\n",
       "      <th>66</th>\n",
       "      <td>76</td>\n",
       "      <td>13:00:00</td>\n",
       "      <td>22:00:00</td>\n",
       "      <td>JOGESHWARI (E)</td>\n",
       "      <td>19.136976</td>\n",
       "      <td>72.854292</td>\n",
       "      <td>0</td>\n",
       "      <td>0</td>\n",
       "    </tr>\n",
       "    <tr>\n",
       "      <th>1271</th>\n",
       "      <td>1471</td>\n",
       "      <td>19:00:00</td>\n",
       "      <td>4:00:00</td>\n",
       "      <td>CBD BELAPUR</td>\n",
       "      <td>19.030066</td>\n",
       "      <td>73.035114</td>\n",
       "      <td>4</td>\n",
       "      <td>0</td>\n",
       "    </tr>\n",
       "    <tr>\n",
       "      <th>262</th>\n",
       "      <td>314</td>\n",
       "      <td>6:00:00</td>\n",
       "      <td>15:00:00</td>\n",
       "      <td>BHAYANDAR (E)</td>\n",
       "      <td>19.305601</td>\n",
       "      <td>72.859375</td>\n",
       "      <td>2</td>\n",
       "      <td>0</td>\n",
       "    </tr>\n",
       "    <tr>\n",
       "      <th>1230</th>\n",
       "      <td>1409</td>\n",
       "      <td>18:00:00</td>\n",
       "      <td>4:00:00</td>\n",
       "      <td>POWAI</td>\n",
       "      <td>19.119677</td>\n",
       "      <td>72.905081</td>\n",
       "      <td>3</td>\n",
       "      <td>0</td>\n",
       "    </tr>\n",
       "  </tbody>\n",
       "</table>\n",
       "</div>"
      ],
      "text/plain": [
       "      Emp ID Office InTime Office OutTime            Area   Area Lat  \\\n",
       "1083    1257      18:00:00        3:00:00         DHARAVI  19.040208   \n",
       "23        27      13:00:00       22:00:00   KOPARKHAIRANE  19.161639   \n",
       "631      776       6:00:00       15:00:00        GHANSOLI  19.125363   \n",
       "1252    1437      18:00:00        4:00:00     ANDHERI (E)  19.115491   \n",
       "377      457       6:00:00       15:00:00     ANDHERI (W)  19.136325   \n",
       "552      669       6:00:00       15:00:00   SANTACRUZ (E)  19.079370   \n",
       "66        76      13:00:00       22:00:00  JOGESHWARI (E)  19.136976   \n",
       "1271    1471      19:00:00        4:00:00     CBD BELAPUR  19.030066   \n",
       "262      314       6:00:00       15:00:00   BHAYANDAR (E)  19.305601   \n",
       "1230    1409      18:00:00        4:00:00           POWAI  19.119677   \n",
       "\n",
       "      Area Long  cluster  centroids  \n",
       "1083  72.850850        6          0  \n",
       "23    72.996427        5          0  \n",
       "631   72.999201        5          0  \n",
       "1252  72.872695        3          0  \n",
       "377   72.827660        0          0  \n",
       "552   72.856260        3          0  \n",
       "66    72.854292        0          0  \n",
       "1271  73.035114        4          0  \n",
       "262   72.859375        2          0  \n",
       "1230  72.905081        3          0  "
      ]
     },
     "execution_count": 20,
     "metadata": {},
     "output_type": "execute_result"
    }
   ],
   "source": [
    "# We can try with k = 7 so that the K-Means algorithm will find 7 theoretical centroids.\n",
    "\n",
    "k = 7\n",
    "model = cluster.KMeans(n_clusters=k, init='k-means++')\n",
    "X = df[[\"Area Lat\",\"Area Long\"]]\n",
    "## clustering\n",
    "dtf_X = X.copy()\n",
    "dtf_X[\"cluster\"] = model.fit_predict(X)\n",
    "## find real centroids\n",
    "closest, distances = scipy.cluster.vq.vq(model.cluster_centers_, \n",
    "                     dtf_X.drop(\"cluster\", axis=1).values)\n",
    "dtf_X[\"centroids\"] = 0\n",
    "for i in closest:\n",
    "    dtf_X[\"centroids\"].iloc[i] = 1\n",
    "## add clustering info to the original dataset\n",
    "df[[\"cluster\",\"centroids\"]] = dtf_X[[\"cluster\",\"centroids\"]]\n",
    "df.sample(10)"
   ]
  },
  {
   "cell_type": "code",
   "execution_count": 21,
   "metadata": {},
   "outputs": [
    {
     "data": {
      "text/plain": [
       "3    377\n",
       "5    323\n",
       "2    312\n",
       "0    244\n",
       "6    204\n",
       "1    169\n",
       "4     59\n",
       "Name: cluster, dtype: int64"
      ]
     },
     "execution_count": 21,
     "metadata": {},
     "output_type": "execute_result"
    }
   ],
   "source": [
    "# Cluster and the count of data points in it.\n",
    "df[\"cluster\"].value_counts()"
   ]
  },
  {
   "cell_type": "code",
   "execution_count": 22,
   "metadata": {},
   "outputs": [
    {
     "data": {
      "text/html": [
       "<div>\n",
       "<style scoped>\n",
       "    .dataframe tbody tr th:only-of-type {\n",
       "        vertical-align: middle;\n",
       "    }\n",
       "\n",
       "    .dataframe tbody tr th {\n",
       "        vertical-align: top;\n",
       "    }\n",
       "\n",
       "    .dataframe thead th {\n",
       "        text-align: right;\n",
       "    }\n",
       "</style>\n",
       "<table border=\"1\" class=\"dataframe\">\n",
       "  <thead>\n",
       "    <tr style=\"text-align: right;\">\n",
       "      <th></th>\n",
       "      <th>Emp ID</th>\n",
       "      <th>Office InTime</th>\n",
       "      <th>Office OutTime</th>\n",
       "      <th>Area</th>\n",
       "      <th>Area Lat</th>\n",
       "      <th>Area Long</th>\n",
       "      <th>cluster</th>\n",
       "      <th>centroids</th>\n",
       "    </tr>\n",
       "  </thead>\n",
       "  <tbody>\n",
       "    <tr>\n",
       "      <th>16</th>\n",
       "      <td>20</td>\n",
       "      <td>13:00:00</td>\n",
       "      <td>22:00:00</td>\n",
       "      <td>THANE (W)</td>\n",
       "      <td>19.244474</td>\n",
       "      <td>72.981488</td>\n",
       "      <td>1</td>\n",
       "      <td>1</td>\n",
       "    </tr>\n",
       "    <tr>\n",
       "      <th>54</th>\n",
       "      <td>64</td>\n",
       "      <td>13:00:00</td>\n",
       "      <td>22:00:00</td>\n",
       "      <td>BHAYANDAR (E)</td>\n",
       "      <td>19.305601</td>\n",
       "      <td>72.859375</td>\n",
       "      <td>2</td>\n",
       "      <td>1</td>\n",
       "    </tr>\n",
       "    <tr>\n",
       "      <th>55</th>\n",
       "      <td>65</td>\n",
       "      <td>13:00:00</td>\n",
       "      <td>22:00:00</td>\n",
       "      <td>GOREGAON (W)</td>\n",
       "      <td>19.162934</td>\n",
       "      <td>72.839241</td>\n",
       "      <td>0</td>\n",
       "      <td>1</td>\n",
       "    </tr>\n",
       "    <tr>\n",
       "      <th>67</th>\n",
       "      <td>77</td>\n",
       "      <td>13:00:00</td>\n",
       "      <td>22:00:00</td>\n",
       "      <td>NERUL (W)</td>\n",
       "      <td>19.035577</td>\n",
       "      <td>73.022817</td>\n",
       "      <td>4</td>\n",
       "      <td>1</td>\n",
       "    </tr>\n",
       "    <tr>\n",
       "      <th>94</th>\n",
       "      <td>112</td>\n",
       "      <td>13:00:00</td>\n",
       "      <td>22:00:00</td>\n",
       "      <td>SAKINAKA</td>\n",
       "      <td>19.094896</td>\n",
       "      <td>72.886525</td>\n",
       "      <td>3</td>\n",
       "      <td>1</td>\n",
       "    </tr>\n",
       "    <tr>\n",
       "      <th>137</th>\n",
       "      <td>167</td>\n",
       "      <td>13:00:00</td>\n",
       "      <td>22:00:00</td>\n",
       "      <td>MULUND (E)</td>\n",
       "      <td>19.156511</td>\n",
       "      <td>72.963773</td>\n",
       "      <td>5</td>\n",
       "      <td>1</td>\n",
       "    </tr>\n",
       "    <tr>\n",
       "      <th>648</th>\n",
       "      <td>796</td>\n",
       "      <td>6:00:00</td>\n",
       "      <td>15:00:00</td>\n",
       "      <td>WADALA</td>\n",
       "      <td>19.015128</td>\n",
       "      <td>72.858064</td>\n",
       "      <td>6</td>\n",
       "      <td>1</td>\n",
       "    </tr>\n",
       "  </tbody>\n",
       "</table>\n",
       "</div>"
      ],
      "text/plain": [
       "     Emp ID Office InTime Office OutTime           Area   Area Lat  Area Long  \\\n",
       "16       20      13:00:00       22:00:00      THANE (W)  19.244474  72.981488   \n",
       "54       64      13:00:00       22:00:00  BHAYANDAR (E)  19.305601  72.859375   \n",
       "55       65      13:00:00       22:00:00   GOREGAON (W)  19.162934  72.839241   \n",
       "67       77      13:00:00       22:00:00      NERUL (W)  19.035577  73.022817   \n",
       "94      112      13:00:00       22:00:00       SAKINAKA  19.094896  72.886525   \n",
       "137     167      13:00:00       22:00:00     MULUND (E)  19.156511  72.963773   \n",
       "648     796       6:00:00       15:00:00         WADALA  19.015128  72.858064   \n",
       "\n",
       "     cluster  centroids  \n",
       "16         1          1  \n",
       "54         2          1  \n",
       "55         0          1  \n",
       "67         4          1  \n",
       "94         3          1  \n",
       "137        5          1  \n",
       "648        6          1  "
      ]
     },
     "execution_count": 22,
     "metadata": {},
     "output_type": "execute_result"
    }
   ],
   "source": [
    "# Centriods for each of the cluster.\n",
    "df[df[\"centroids\"]==1]"
   ]
  },
  {
   "cell_type": "code",
   "execution_count": 23,
   "metadata": {},
   "outputs": [
    {
     "data": {
      "text/plain": [
       "<matplotlib.collections.PathCollection at 0x131bbb350>"
      ]
     },
     "execution_count": 23,
     "metadata": {},
     "output_type": "execute_result"
    },
    {
     "data": {
      "image/png": "[encoded data removed]",
      "text/plain": [
       "<Figure size 432x288 with 1 Axes>"
      ]
     },
     "metadata": {
      "needs_background": "light"
     },
     "output_type": "display_data"
    }
   ],
   "source": [
    "## plot showing the clusters and centroids.\n",
    "fig, ax = plt.subplots()\n",
    "sns.scatterplot(x=\"Area Lat\", y=\"Area Long\", data=df, \n",
    "                palette=sns.color_palette(\"bright\",k),\n",
    "                hue='cluster', size=\"centroids\", size_order=[1,0],\n",
    "                legend=\"brief\", ax=ax).set_title('Clustering(k='+str(k)+')')\n",
    "th_centroids = model.cluster_centers_\n",
    "ax.scatter(th_centroids[:,0], th_centroids[:,1], s=50, c='black', \n",
    "           marker=\"x\")"
   ]
  },
  {
   "cell_type": "code",
   "execution_count": null,
   "metadata": {},
   "outputs": [],
   "source": [
    "# Let's have a look at the data for for one of the clusters"
   ]
  },
  {
   "cell_type": "code",
   "execution_count": 24,
   "metadata": {},
   "outputs": [],
   "source": [
    "df_0 = df[df[\"cluster\"]==0]  # dataframe for cluster 0 data"
   ]
  },
  {
   "cell_type": "code",
   "execution_count": 44,
   "metadata": {},
   "outputs": [
    {
     "data": {
      "text/html": [
       "<div>\n",
       "<style scoped>\n",
       "    .dataframe tbody tr th:only-of-type {\n",
       "        vertical-align: middle;\n",
       "    }\n",
       "\n",
       "    .dataframe tbody tr th {\n",
       "        vertical-align: top;\n",
       "    }\n",
       "\n",
       "    .dataframe thead th {\n",
       "        text-align: right;\n",
       "    }\n",
       "</style>\n",
       "<table border=\"1\" class=\"dataframe\">\n",
       "  <thead>\n",
       "    <tr style=\"text-align: right;\">\n",
       "      <th></th>\n",
       "      <th>Emp ID</th>\n",
       "      <th>Office InTime</th>\n",
       "      <th>Office OutTime</th>\n",
       "      <th>Area</th>\n",
       "      <th>Area Lat</th>\n",
       "      <th>Area Long</th>\n",
       "      <th>cluster</th>\n",
       "      <th>centroids</th>\n",
       "    </tr>\n",
       "  </thead>\n",
       "  <tbody>\n",
       "    <tr>\n",
       "      <th>10</th>\n",
       "      <td>13</td>\n",
       "      <td>13:00:00</td>\n",
       "      <td>22:00:00</td>\n",
       "      <td>GOREGAON (E)</td>\n",
       "      <td>19.155148</td>\n",
       "      <td>72.867855</td>\n",
       "      <td>0</td>\n",
       "      <td>0</td>\n",
       "    </tr>\n",
       "    <tr>\n",
       "      <th>14</th>\n",
       "      <td>18</td>\n",
       "      <td>13:00:00</td>\n",
       "      <td>22:00:00</td>\n",
       "      <td>KANDIVALI (W)</td>\n",
       "      <td>19.199821</td>\n",
       "      <td>72.842594</td>\n",
       "      <td>0</td>\n",
       "      <td>0</td>\n",
       "    </tr>\n",
       "    <tr>\n",
       "      <th>15</th>\n",
       "      <td>19</td>\n",
       "      <td>13:00:00</td>\n",
       "      <td>22:00:00</td>\n",
       "      <td>ANDHERI (W)</td>\n",
       "      <td>19.136325</td>\n",
       "      <td>72.827660</td>\n",
       "      <td>0</td>\n",
       "      <td>0</td>\n",
       "    </tr>\n",
       "    <tr>\n",
       "      <th>24</th>\n",
       "      <td>28</td>\n",
       "      <td>13:00:00</td>\n",
       "      <td>22:00:00</td>\n",
       "      <td>MALAD (E)</td>\n",
       "      <td>19.180873</td>\n",
       "      <td>72.857456</td>\n",
       "      <td>0</td>\n",
       "      <td>0</td>\n",
       "    </tr>\n",
       "    <tr>\n",
       "      <th>36</th>\n",
       "      <td>41</td>\n",
       "      <td>13:00:00</td>\n",
       "      <td>22:00:00</td>\n",
       "      <td>MALAD (W)</td>\n",
       "      <td>19.182755</td>\n",
       "      <td>72.840154</td>\n",
       "      <td>0</td>\n",
       "      <td>0</td>\n",
       "    </tr>\n",
       "  </tbody>\n",
       "</table>\n",
       "</div>"
      ],
      "text/plain": [
       "    Emp ID Office InTime Office OutTime           Area   Area Lat  Area Long  \\\n",
       "10      13      13:00:00       22:00:00   GOREGAON (E)  19.155148  72.867855   \n",
       "14      18      13:00:00       22:00:00  KANDIVALI (W)  19.199821  72.842594   \n",
       "15      19      13:00:00       22:00:00    ANDHERI (W)  19.136325  72.827660   \n",
       "24      28      13:00:00       22:00:00      MALAD (E)  19.180873  72.857456   \n",
       "36      41      13:00:00       22:00:00      MALAD (W)  19.182755  72.840154   \n",
       "\n",
       "    cluster  centroids  \n",
       "10        0          0  \n",
       "14        0          0  \n",
       "15        0          0  \n",
       "24        0          0  \n",
       "36        0          0  "
      ]
     },
     "execution_count": 44,
     "metadata": {},
     "output_type": "execute_result"
    }
   ],
   "source": [
    "df_0.head()"
   ]
  },
  {
   "cell_type": "code",
   "execution_count": 26,
   "metadata": {},
   "outputs": [
    {
     "data": {
      "text/plain": [
       "6:00:00     79\n",
       "19:00:00    51\n",
       "18:00:00    51\n",
       "13:00:00    34\n",
       "9:00:00     14\n",
       "15:00:00     8\n",
       "21:00:00     7\n",
       "Name: Office InTime, dtype: int64"
      ]
     },
     "execution_count": 26,
     "metadata": {},
     "output_type": "execute_result"
    }
   ],
   "source": [
    "df_0[\"Office InTime\"].value_counts()"
   ]
  },
  {
   "cell_type": "code",
   "execution_count": 27,
   "metadata": {},
   "outputs": [
    {
     "data": {
      "text/plain": [
       "15:00:00    79\n",
       "4:00:00     53\n",
       "3:00:00     49\n",
       "22:00:00    34\n",
       "18:00:00    14\n",
       "0:00:00      8\n",
       "6:00:00      7\n",
       "Name: Office OutTime, dtype: int64"
      ]
     },
     "execution_count": 27,
     "metadata": {},
     "output_type": "execute_result"
    }
   ],
   "source": [
    "df_0[\"Office OutTime\"].value_counts()"
   ]
  },
  {
   "cell_type": "code",
   "execution_count": 46,
   "metadata": {},
   "outputs": [
    {
     "data": {
      "text/html": [
       "<div>\n",
       "<style scoped>\n",
       "    .dataframe tbody tr th:only-of-type {\n",
       "        vertical-align: middle;\n",
       "    }\n",
       "\n",
       "    .dataframe tbody tr th {\n",
       "        vertical-align: top;\n",
       "    }\n",
       "\n",
       "    .dataframe thead th {\n",
       "        text-align: right;\n",
       "    }\n",
       "</style>\n",
       "<table border=\"1\" class=\"dataframe\">\n",
       "  <thead>\n",
       "    <tr style=\"text-align: right;\">\n",
       "      <th></th>\n",
       "      <th>Emp ID</th>\n",
       "      <th>Office InTime</th>\n",
       "      <th>Office OutTime</th>\n",
       "      <th>Area</th>\n",
       "      <th>Area Lat</th>\n",
       "      <th>Area Long</th>\n",
       "      <th>cluster</th>\n",
       "      <th>centroids</th>\n",
       "    </tr>\n",
       "  </thead>\n",
       "  <tbody>\n",
       "    <tr>\n",
       "      <th>55</th>\n",
       "      <td>65</td>\n",
       "      <td>13:00:00</td>\n",
       "      <td>22:00:00</td>\n",
       "      <td>GOREGAON (W)</td>\n",
       "      <td>19.162934</td>\n",
       "      <td>72.839241</td>\n",
       "      <td>0</td>\n",
       "      <td>1</td>\n",
       "    </tr>\n",
       "  </tbody>\n",
       "</table>\n",
       "</div>"
      ],
      "text/plain": [
       "    Emp ID Office InTime Office OutTime          Area   Area Lat  Area Long  \\\n",
       "55      65      13:00:00       22:00:00  GOREGAON (W)  19.162934  72.839241   \n",
       "\n",
       "    cluster  centroids  \n",
       "55        0          1  "
      ]
     },
     "execution_count": 46,
     "metadata": {},
     "output_type": "execute_result"
    }
   ],
   "source": [
    "df_0[df_0[\"centroids\"]==1] # centroid for cluster 0"
   ]
  },
  {
   "cell_type": "markdown",
   "metadata": {},
   "source": [
    "# Greedy Algorithm optimization problem\n",
    "\n",
    "### Assumptions: \n",
    "###     1. Average speed of cab in mumbai is 25 Km/hr\n",
    "###     2. Pickup point is centroid for each cluster"
   ]
  },
  {
   "cell_type": "code",
   "execution_count": 29,
   "metadata": {},
   "outputs": [],
   "source": [
    "# Now we have 7 clusters with centroids as pick up points \n",
    "# Finding the minimum of cabs to complete all trips is now an optimization problem, \n",
    "# So we will use the greedy algorithm here"
   ]
  },
  {
   "cell_type": "code",
   "execution_count": 30,
   "metadata": {},
   "outputs": [],
   "source": [
    "# Hence, let's find the time slots which would require most number of cabs, \n",
    "# we would atleast need that many cabs to pick up or drop "
   ]
  },
  {
   "cell_type": "code",
   "execution_count": 31,
   "metadata": {},
   "outputs": [
    {
     "data": {
      "text/plain": [
       "6:00:00     586\n",
       "18:00:00    422\n",
       "19:00:00    282\n",
       "13:00:00    204\n",
       "9:00:00     102\n",
       "21:00:00     46\n",
       "15:00:00     42\n",
       "11:00:00      4\n",
       "Name: Office InTime, dtype: int64"
      ]
     },
     "execution_count": 31,
     "metadata": {},
     "output_type": "execute_result"
    }
   ],
   "source": [
    "# office in time slots with value counts\n",
    "df[\"Office InTime\"].value_counts()\n",
    "\n",
    "# max employee count = 586 at 6:00:00"
   ]
  },
  {
   "cell_type": "code",
   "execution_count": 32,
   "metadata": {},
   "outputs": [
    {
     "data": {
      "text/plain": [
       "15:00:00    585\n",
       "3:00:00     386\n",
       "4:00:00     318\n",
       "22:00:00    204\n",
       "18:00:00    102\n",
       "6:00:00      46\n",
       "0:00:00      42\n",
       "20:00:00      4\n",
       "16:00:00      1\n",
       "Name: Office OutTime, dtype: int64"
      ]
     },
     "execution_count": 32,
     "metadata": {},
     "output_type": "execute_result"
    }
   ],
   "source": [
    "# office out time slots with value counts\n",
    "df[\"Office OutTime\"].value_counts()\n",
    "\n",
    "#max employee count = 585 at 15:00:00"
   ]
  },
  {
   "cell_type": "code",
   "execution_count": 33,
   "metadata": {},
   "outputs": [
    {
     "name": "stdout",
     "output_type": "stream",
     "text": [
      "\n",
      "--> cluster:  0\n",
      "\n",
      "employees to be picked up for slot 6am:  79\n",
      "\n",
      "employees to be dropped for slot 15pm:  79\n",
      "\n",
      "Total min cabs required for slot 6am ofc in :  14\n",
      "\n",
      "Total min cabs required for slot 15pm ofc out:  14\n",
      "\n",
      "--> cluster:  1\n",
      "\n",
      "employees to be picked up for slot 6am:  58\n",
      "\n",
      "employees to be dropped for slot 15pm:  58\n",
      "\n",
      "Total min cabs required for slot 6am ofc in :  24\n",
      "\n",
      "Total min cabs required for slot 15pm ofc out:  24\n",
      "\n",
      "--> cluster:  2\n",
      "\n",
      "employees to be picked up for slot 6am:  69\n",
      "\n",
      "employees to be dropped for slot 15pm:  69\n",
      "\n",
      "Total min cabs required for slot 6am ofc in :  36\n",
      "\n",
      "Total min cabs required for slot 15pm ofc out:  36\n",
      "\n",
      "--> cluster:  3\n",
      "\n",
      "employees to be picked up for slot 6am:  126\n",
      "\n",
      "employees to be dropped for slot 15pm:  126\n",
      "\n",
      "Total min cabs required for slot 6am ofc in :  57\n",
      "\n",
      "Total min cabs required for slot 15pm ofc out:  57\n",
      "\n",
      "--> cluster:  4\n",
      "\n",
      "employees to be picked up for slot 6am:  27\n",
      "\n",
      "employees to be dropped for slot 15pm:  27\n",
      "\n",
      "Total min cabs required for slot 6am ofc in :  62\n",
      "\n",
      "Total min cabs required for slot 15pm ofc out:  62\n",
      "\n",
      "--> cluster:  5\n",
      "\n",
      "employees to be picked up for slot 6am:  151\n",
      "\n",
      "employees to be dropped for slot 15pm:  150\n",
      "\n",
      "Total min cabs required for slot 6am ofc in :  88\n",
      "\n",
      "Total min cabs required for slot 15pm ofc out:  87\n",
      "\n",
      "--> cluster:  6\n",
      "\n",
      "employees to be picked up for slot 6am:  76\n",
      "\n",
      "employees to be dropped for slot 15pm:  76\n",
      "\n",
      "Total min cabs required for slot 6am ofc in :  101\n",
      "\n",
      "Total min cabs required for slot 15pm ofc out:  100\n"
     ]
    }
   ],
   "source": [
    "# calculate the minimum number of cabs required for these max employee slots \n",
    "# Since the pickup is from cluster centroids, the calculation should be done as per employee count at each cluster\n",
    "\n",
    "clusters = df[\"cluster\"].nunique() # clusters count =7\n",
    "min_cab_req_6am_slot = 0\n",
    "min_cab_req_15pm_slot = 0\n",
    "\n",
    "for i in range(clusters):\n",
    "    print(\"\\n--> cluster: \", i)\n",
    "    df_c = df[df[\"cluster\"]==i]\n",
    "    ofc_in_emp_count = len(df_c[df_c[\"Office InTime\"] == \"6:00:00\"])\n",
    "    print(\"\\nemployees to be picked up for slot 6am: \", ofc_in_emp_count)\n",
    "    min_cab_req_6am_slot += math.ceil(ofc_in_emp_count/6) # as each cab can max fit 6 employees\n",
    "    \n",
    "    ofc_out_emp_count = len(df_c[df_c[\"Office OutTime\"] == \"15:00:00\"])\n",
    "    print(\"\\nemployees to be dropped for slot 15pm: \", ofc_out_emp_count)\n",
    "    min_cab_req_15pm_slot += math.ceil(ofc_out_emp_count/6) # as each cab can max fit 6 employees\n",
    "    \n",
    "    print(\"\\nTotal min cabs required for slot 6am ofc in : \", min_cab_req_6am_slot)\n",
    "    print(\"\\nTotal min cabs required for slot 15pm ofc out: \", min_cab_req_15pm_slot)\n",
    "    "
   ]
  },
  {
   "cell_type": "code",
   "execution_count": 34,
   "metadata": {},
   "outputs": [],
   "source": [
    "# Now since each cab can max work for 12 hrs,\n",
    "# So if these 101 cabs are to service for 12 hrs covering both these max employee pick up and drop slots i.e 6am and 3pm \n",
    "# the cabs would have to start before 6 am and work till after 15 pm to reach ofc in time and drop ppl to there cluster centroid\n",
    "# say 5am to 17pm, but no ofc to drop point should take more than an hr for our assumption to be correct\n",
    "# So, lets calculate office to cluster centroids distance and time required for same..assuming avg cab speed is 25 km/hr"
   ]
  },
  {
   "cell_type": "code",
   "execution_count": 35,
   "metadata": {},
   "outputs": [
    {
     "name": "stdout",
     "output_type": "stream",
     "text": [
      "\n",
      "--> cluster:  0\n",
      "\n",
      " office distance from cluster centroid:  5.4543974883589925 kms\n",
      "\n",
      " time taken to reach office from cluster centroid:  0.2181758995343597 hrs\n",
      "\n",
      "--> cluster:  1\n",
      "\n",
      " office distance from cluster centroid:  18.55376332263291 kms\n",
      "\n",
      " time taken to reach office from cluster centroid:  0.7421505329053164 hrs\n",
      "\n",
      "--> cluster:  2\n",
      "\n",
      " office distance from cluster centroid:  20.66459198540091 kms\n",
      "\n",
      " time taken to reach office from cluster centroid:  0.8265836794160364 hrs\n",
      "\n",
      "--> cluster:  3\n",
      "\n",
      " office distance from cluster centroid:  3.645066216649553 kms\n",
      "\n",
      " time taken to reach office from cluster centroid:  0.1458026486659821 hrs\n",
      "\n",
      "--> cluster:  4\n",
      "\n",
      " office distance from cluster centroid:  19.141144435912917 kms\n",
      "\n",
      " time taken to reach office from cluster centroid:  0.7656457774365166 hrs\n",
      "\n",
      "--> cluster:  5\n",
      "\n",
      " office distance from cluster centroid:  11.24163901750383 kms\n",
      "\n",
      " time taken to reach office from cluster centroid:  0.44966556070015323 hrs\n",
      "\n",
      "--> cluster:  6\n",
      "\n",
      " office distance from cluster centroid:  11.667590728999784 kms\n",
      "\n",
      " time taken to reach office from cluster centroid:  0.46670362915999136 hrs\n"
     ]
    }
   ],
   "source": [
    "# Distance between the office and cluster centroid\n",
    "def get_distance_and_time_for_cluster(df_c):\n",
    "    avg_cab_speed = 25 # in Km/hr     \n",
    "    office_lat = 19.119871\n",
    "    office_long = 72.864071\n",
    "\n",
    "    centroid_lat = df_c[df_c[\"centroids\"]==1].iloc[0][\"Area Lat\"]\n",
    "    centroid_long = df_c[df_c[\"centroids\"]==1].iloc[0][\"Area Long\"]\n",
    "\n",
    "    R = 6373.0     # radius of the earth \n",
    "\n",
    "    lat1 = radians(office_lat)\n",
    "    lon1 = radians(office_long)\n",
    "    lat2 = radians(centroid_lat)\n",
    "    lon2 = radians(centroid_long)\n",
    "\n",
    "    dlon = lon2 - lon1\n",
    "    dlat = lat2 - lat1\n",
    "\n",
    "    a = sin(dlat / 2)**2 + cos(lat1) * cos(lat2) * sin(dlon / 2)**2\n",
    "    c = 2 * atan2(sqrt(a), sqrt(1 - a))\n",
    "\n",
    "    cluster_distance = R * c\n",
    "    cluster_time = cluster_distance / avg_cab_speed\n",
    "    \n",
    "    return cluster_distance, cluster_time\n",
    "\n",
    "for i in range(7):\n",
    "    print(\"\\n--> cluster: \", i)\n",
    "    df_c = df[df[\"cluster\"]==i]\n",
    "    c_dist, c_time = get_distance_and_time_for_cluster(df_c)\n",
    "    print(\"\\n office distance from cluster centroid: \", c_dist, \"kms\")\n",
    "    print(\"\\n time taken to reach office from cluster centroid: \", c_time, \"hrs\")"
   ]
  },
  {
   "cell_type": "code",
   "execution_count": 36,
   "metadata": {},
   "outputs": [],
   "source": [
    "# Now we can observe that the maximum time required to reach office from a cluster centroid is 1hr\n",
    "# SO, to cover both max employee count ofc_in (6:00:00) and ofc_out (15:00:00) slot, we can form a cab group 1 which works from 5am to 5pm.\n",
    "\n",
    "# Consequently, time slots covered by cab group1 of 101 cabs, which works from 5am to 5pm will be as below\n",
    "# ofc_in_slots -> 6:00:00, 9:00:00, 11:00:00, 13:00:00, 15:00:00\n",
    "# ofc_out_slots -> 6:00:00, 15:00:00, 16:00:00"
   ]
  },
  {
   "cell_type": "code",
   "execution_count": 37,
   "metadata": {},
   "outputs": [
    {
     "name": "stdout",
     "output_type": "stream",
     "text": [
      "6:00:00     586\n",
      "18:00:00    422\n",
      "19:00:00    282\n",
      "13:00:00    204\n",
      "9:00:00     102\n",
      "21:00:00     46\n",
      "15:00:00     42\n",
      "11:00:00      4\n",
      "Name: Office InTime, dtype: int64\n",
      "15:00:00    585\n",
      "3:00:00     386\n",
      "4:00:00     318\n",
      "22:00:00    204\n",
      "18:00:00    102\n",
      "6:00:00      46\n",
      "0:00:00      42\n",
      "20:00:00      4\n",
      "16:00:00      1\n",
      "Name: Office OutTime, dtype: int64\n"
     ]
    }
   ],
   "source": [
    "print(df[\"Office InTime\"].value_counts())\n",
    "print(df[\"Office OutTime\"].value_counts())"
   ]
  },
  {
   "cell_type": "code",
   "execution_count": 38,
   "metadata": {},
   "outputs": [],
   "source": [
    "# Subsequently, as cabs from group1 can only work for 12 hrs ..we will need a group 2 of cabs to serve from 5 pm to 5am\n",
    "\n",
    "# Time slots covered by cab group2, which works from 5pm to 5am will be as below\n",
    "# ofc_in_slots -> 18:00:00, 19:00:00, 21:00:00\n",
    "# ofc_out_slots -> 18:00:00, 20:00:00, 22:00:00, 0:00:00, 3:00:00, 4:00:00"
   ]
  },
  {
   "cell_type": "code",
   "execution_count": 39,
   "metadata": {},
   "outputs": [],
   "source": [
    "# Now the final task would be to find the minimum cabs required for group2 \n",
    "# Again we will use the greedy approach by taking the max employee count in these group 2 slots\n",
    "\n",
    "# From the above slot -> value_counts map , we can see that \n",
    "# grp2_ofc_in_slot with max emp count is - \"18:00:00\" with emp count 422\n",
    "# grp2_ofc_out_slot with max emp count is - \"3:00:00\" with emp count 386\n",
    "\n",
    "# So lets calculate the min cabs req for grp2 using cluster emp counts "
   ]
  },
  {
   "cell_type": "code",
   "execution_count": 40,
   "metadata": {},
   "outputs": [
    {
     "name": "stdout",
     "output_type": "stream",
     "text": [
      "\n",
      "--> cluster:  0\n",
      "\n",
      "employees to be picked up for slot 18pm:  51\n",
      "\n",
      "employees to be dropped for slot 3am:  49\n",
      "\n",
      "Total min cabs required for slot 18pm ofc in :  9\n",
      "\n",
      "Total min cabs required for slot 3am ofc out:  9\n",
      "\n",
      "--> cluster:  1\n",
      "\n",
      "employees to be picked up for slot 18pm:  53\n",
      "\n",
      "employees to be dropped for slot 3am:  47\n",
      "\n",
      "Total min cabs required for slot 18pm ofc in :  18\n",
      "\n",
      "Total min cabs required for slot 3am ofc out:  17\n",
      "\n",
      "--> cluster:  2\n",
      "\n",
      "employees to be picked up for slot 18pm:  90\n",
      "\n",
      "employees to be dropped for slot 3am:  82\n",
      "\n",
      "Total min cabs required for slot 18pm ofc in :  33\n",
      "\n",
      "Total min cabs required for slot 3am ofc out:  31\n",
      "\n",
      "--> cluster:  3\n",
      "\n",
      "employees to be picked up for slot 18pm:  95\n",
      "\n",
      "employees to be dropped for slot 3am:  85\n",
      "\n",
      "Total min cabs required for slot 18pm ofc in :  49\n",
      "\n",
      "Total min cabs required for slot 3am ofc out:  46\n",
      "\n",
      "--> cluster:  4\n",
      "\n",
      "employees to be picked up for slot 18pm:  11\n",
      "\n",
      "employees to be dropped for slot 3am:  10\n",
      "\n",
      "Total min cabs required for slot 18pm ofc in :  51\n",
      "\n",
      "Total min cabs required for slot 3am ofc out:  48\n",
      "\n",
      "--> cluster:  5\n",
      "\n",
      "employees to be picked up for slot 18pm:  65\n",
      "\n",
      "employees to be dropped for slot 3am:  60\n",
      "\n",
      "Total min cabs required for slot 18pm ofc in :  62\n",
      "\n",
      "Total min cabs required for slot 3am ofc out:  58\n",
      "\n",
      "--> cluster:  6\n",
      "\n",
      "employees to be picked up for slot 18pm:  57\n",
      "\n",
      "employees to be dropped for slot 3am:  53\n",
      "\n",
      "Total min cabs required for slot 18pm ofc in :  72\n",
      "\n",
      "Total min cabs required for slot 3am ofc out:  67\n"
     ]
    }
   ],
   "source": [
    "# Grp2 - calculate the minimum number of cabs required for the max employee slots \n",
    "# Since the pickup is from cluster centroids, the calculation should be done as per employee count at each cluster\n",
    "\n",
    "clusters = df[\"cluster\"].nunique()\n",
    "grp2_min_cab_req_18pm_slot = 0\n",
    "grp2_min_cab_req_3am_slot = 0\n",
    "\n",
    "for i in range(clusters):\n",
    "    print(\"\\n--> cluster: \", i)\n",
    "    df_c = df[df[\"cluster\"]==i]\n",
    "    grp2_ofc_in_emp_count = len(df_c[df_c[\"Office InTime\"] == \"18:00:00\"])\n",
    "    print(\"\\nemployees to be picked up for slot 18pm: \", grp2_ofc_in_emp_count)\n",
    "    grp2_min_cab_req_18pm_slot += math.ceil(grp2_ofc_in_emp_count/6) # as each cab can max fit 6 employees\n",
    "    \n",
    "    grp2_ofc_out_emp_count = len(df_c[df_c[\"Office OutTime\"] == \"3:00:00\"])\n",
    "    print(\"\\nemployees to be dropped for slot 3am: \", grp2_ofc_out_emp_count)\n",
    "    grp2_min_cab_req_3am_slot += math.ceil(grp2_ofc_out_emp_count/6) # as each cab can max fit 6 employees\n",
    "    \n",
    "    print(\"\\nTotal min cabs required for slot 18pm ofc in : \", grp2_min_cab_req_18pm_slot)\n",
    "    print(\"\\nTotal min cabs required for slot 3am ofc out: \", grp2_min_cab_req_3am_slot)\n",
    "    "
   ]
  },
  {
   "cell_type": "code",
   "execution_count": 41,
   "metadata": {},
   "outputs": [
    {
     "name": "stdout",
     "output_type": "stream",
     "text": [
      "\n",
      " Minimum number of cabs req to complete all trips:  173\n"
     ]
    }
   ],
   "source": [
    "# So for group 2 minimum number of required cabs is 72 \n",
    "# And total minimum number of cabs req for complete service is 101 (grp1)+ 72(grp2) = 173\n",
    "\n",
    "minimum_no_of_cabs_req_to_comp_all_trips = \\\n",
    "max(min_cab_req_6am_slot, min_cab_req_15pm_slot) + max(grp2_min_cab_req_18pm_slot, grp2_min_cab_req_3am_slot)\n",
    "\n",
    "print(\"\\n Minimum number of cabs req to complete all trips: \", minimum_no_of_cabs_req_to_comp_all_trips)"
   ]
  },
  {
   "cell_type": "code",
   "execution_count": 42,
   "metadata": {},
   "outputs": [
    {
     "name": "stdout",
     "output_type": "stream",
     "text": [
      "6:00:00     586\n",
      "18:00:00    422\n",
      "19:00:00    282\n",
      "13:00:00    204\n",
      "9:00:00     102\n",
      "21:00:00     46\n",
      "15:00:00     42\n",
      "11:00:00      4\n",
      "Name: Office InTime, dtype: int64\n",
      "15:00:00    585\n",
      "3:00:00     386\n",
      "4:00:00     318\n",
      "22:00:00    204\n",
      "18:00:00    102\n",
      "6:00:00      46\n",
      "0:00:00      42\n",
      "20:00:00      4\n",
      "16:00:00      1\n",
      "Name: Office OutTime, dtype: int64\n"
     ]
    }
   ],
   "source": [
    "# Greedy algorithm Summary\n",
    "\n",
    "# Form a 12 hour cab group 1 such that it includes max employee counts office in and office out slots\n",
    "# Now form a 12 hour cab group 2 which includes the next set of max employee counts office in and office out slots\n",
    "# The two 12 hours cab group should satisy all trips.\n",
    "\n",
    "print(df[\"Office InTime\"].value_counts())\n",
    "print(df[\"Office OutTime\"].value_counts())\n"
   ]
  },
  {
   "cell_type": "code",
   "execution_count": 43,
   "metadata": {},
   "outputs": [],
   "source": [
    "# we take first two max values i.e 586 and 585 time slots in cab group1 as it fall within 12 hours,  5am to 5pm\n",
    "# we take the next two max values 422 and 386 time slots in cab group 2 as it falls within 12 hours, 5pm to 5am \n",
    "\n",
    "# The two 12 hours cab group satisy all trips so our problem is solved.\n",
    "# No of cabs required = 173"
   ]
  }
 ],
 "metadata": {
  "kernelspec": {
   "display_name": "Python 3",
   "language": "python",
   "name": "python3"
  },
  "language_info": {
   "codemirror_mode": {
    "name": "ipython",
    "version": 3
   },
   "file_extension": ".py",
   "mimetype": "text/x-python",
   "name": "python",
   "nbconvert_exporter": "python",
   "pygments_lexer": "ipython3",
   "version": "3.7.4"
  }
 },
 "nbformat": 4,
 "nbformat_minor": 2
}
